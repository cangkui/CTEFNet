{
 "cells": [
  {
   "cell_type": "markdown",
   "metadata": {
    "pycharm": {
     "name": "#%% md\n"
    }
   },
   "source": [
    "# CTEFNet: 基于 CNN 与迁移学习的厄尔尼诺预测模型"
   ]
  },
  {
   "cell_type": "markdown",
   "metadata": {
    "pycharm": {
     "name": "#%% md\n"
    }
   },
   "source": [
    "## 技术路径\n",
    "\n",
    "MindSpore Earth求解该问题的具体流程如下:\n",
    "\n",
    "1. 创建数据集\n",
    "2. 模型构建\n",
    "3. 损失函数\n",
    "4. 模型训练\n",
    "5. 模型评估与可视化"
   ]
  },
  {
   "cell_type": "markdown",
   "metadata": {},
   "source": [
    "## 1. 下载并构建数据集\n",
    "\n",
    "训练和测试所用的数据集可以在: [mindearth/dataset](https://download-mindspore.osinfra.cn/mindscience/mindearth/dataset/enso_dataset.zip) 下载。\n",
    "\n",
    "## 2. 安装并导入依赖库\n"
   ]
  },
  {
   "cell_type": "code",
   "execution_count": 1,
   "metadata": {
    "pycharm": {
     "name": "#%%\n"
    }
   },
   "outputs": [],
   "source": [
    "import os\n",
    "import random\n",
    "\n",
    "import numpy as np\n",
    "\n",
    "from mindspore import set_seed\n",
    "from mindspore import context\n",
    "import mindspore.dataset as ds\n",
    "from mindspore.train.serialization import load_param_into_net"
   ]
  },
  {
   "cell_type": "code",
   "execution_count": 3,
   "metadata": {},
   "outputs": [],
   "source": [
    "from mindearth.module import Trainer\n",
    "from mindearth.utils import load_yaml_config, create_logger\n",
    "from src import WeightedLoss, CTEFNet, InferenceModule, EvaluateCallBack\n",
    "from src import ReanalysisData, plot_correlation, get_param_dict, init_dataloader"
   ]
  },
  {
   "cell_type": "code",
   "execution_count": 4,
   "metadata": {},
   "outputs": [],
   "source": [
    "set_seed(0)\n",
    "np.random.seed(0)\n",
    "random.seed(0)"
   ]
  },
  {
   "cell_type": "markdown",
   "metadata": {},
   "source": [
    "模型涉及的参数、优化器、数据配置见[config](https://gitee.com/mindspore/mindscience/blob/master/MindEarth/applications/medium-range/ensoforecast/configs/pretrain.yaml)。"
   ]
  },
  {
   "cell_type": "code",
   "execution_count": 5,
   "metadata": {
    "pycharm": {
     "name": "#%%\n"
    }
   },
   "outputs": [],
   "source": [
    "config = load_yaml_config(\"./configs/pretrain.yaml\")\n",
    "context.set_context(mode=context.PYNATIVE_MODE, device_target=\"GPU\", device_id=0)"
   ]
  },
  {
   "cell_type": "markdown",
   "metadata": {
    "pycharm": {
     "name": "#%% md\n"
    }
   },
   "source": [
    "## 3. 模型构建"
   ]
  },
  {
   "cell_type": "markdown",
   "metadata": {
    "pycharm": {
     "name": "#%% md\n"
    }
   },
   "source": [
    "模型初始化："
   ]
  },
  {
   "cell_type": "code",
   "execution_count": 6,
   "metadata": {
    "pycharm": {
     "name": "#%%\n"
    }
   },
   "outputs": [],
   "source": [
    "config['data']['obs_time'] = 12 # 观测时长\n",
    "config['data']['pred_time'] = 23 # 预测时长\n",
    "logger = create_logger(os.path.join(os.path.abspath(config['summary'][\"summary_dir\"]), \"results.log\"))"
   ]
  },
  {
   "cell_type": "code",
   "execution_count": 7,
   "metadata": {
    "pycharm": {
     "name": "#%%\n"
    }
   },
   "outputs": [],
   "source": [
    "data_params = config.get(\"data\")\n",
    "model_params = config.get(\"model\")\n",
    "model = CTEFNet(\n",
    "        cov_hidden_channels=model_params.get('cov_hidden_channels'),\n",
    "        cov_out_channels=model_params.get('cov_out_channels'),\n",
    "        heads=model_params.get('heads'),\n",
    "        num_layer=model_params.get('num_layer'),\n",
    "        feedforward_dims=model_params.get('feedforward_dims'),\n",
    "        dropout=model_params.get('dropout'),\n",
    "        obs_time=data_params.get('obs_time'),\n",
    "        pred_time=data_params.get('pred_time')\n",
    "    )"
   ]
  },
  {
   "cell_type": "markdown",
   "metadata": {
    "pycharm": {
     "name": "#%% md\n"
    }
   },
   "source": [
    "## 4. 设计损失函数\n",
    "\n",
    "CTEFNet 在模型训练中使用自定义加权损失。计算公式见README.md。"
   ]
  },
  {
   "cell_type": "code",
   "execution_count": 8,
   "metadata": {
    "pycharm": {
     "name": "#%%\n"
    }
   },
   "outputs": [],
   "source": [
    "opt_params = config.get(\"optimizer\")\n",
    "loss_fn = WeightedLoss(\n",
    "    lambda_1=opt_params.get('loss_alpha'),\n",
    "    lambda_2=opt_params.get('loss_beta'),\n",
    "    lambda_3=opt_params.get('loss_gamma'),\n",
    "    obs_time=data_params.get('obs_time')\n",
    ")"
   ]
  },
  {
   "cell_type": "markdown",
   "metadata": {
    "pycharm": {
     "name": "#%% md\n"
    }
   },
   "source": [
    "## 5. 模型训练\n",
    "\n",
    "通过继承`Trainer`并重写`get_dataset`成员函数来加入自定义数据，并重写了`get_callback`成员函数来在训练过程中对测试数据集执行推理。模型训练可以分为预训练和调优两步。\n",
    "\n",
    "MindSpore Earth提供训练和推理接口，使用2.0.0及之后的MindSpore训练网络。"
   ]
  },
  {
   "cell_type": "code",
   "execution_count": 9,
   "metadata": {
    "pycharm": {
     "name": "#%%\n"
    }
   },
   "outputs": [],
   "source": [
    "class CTEFTrainer(Trainer):\n",
    "    def __init__(self, config, model, loss_fn, logger):\n",
    "        super().__init__(config, model, loss_fn, logger)\n",
    "        self.train_dataset, self.valid_dataset = self.get_dataset()\n",
    "        self.pred_cb = self.get_callback()\n",
    "\n",
    "    def get_callback(self):\n",
    "        pred_cb = EvaluateCallBack(self.model, self.valid_dataset, self.config, self.logger)\n",
    "        return pred_cb\n",
    "\n",
    "\n",
    "    def get_dataset(self):\n",
    "        train_dataloader, valid_dataloader = init_dataloader(self.config)\n",
    "        return train_dataloader, valid_dataloader"
   ]
  },
  {
   "cell_type": "markdown",
   "metadata": {},
   "source": [
    "### 5.1 预训练\n",
    "\n",
    "首先使用 CMIP5 数据进行预训练。"
   ]
  },
  {
   "cell_type": "code",
   "execution_count": 10,
   "metadata": {
    "pycharm": {
     "name": "#%%\n"
    },
    "scrolled": true
   },
   "outputs": [
    {
     "name": "stderr",
     "output_type": "stream",
     "text": [
      "2024-06-12 16:11:34,142 - pretrain.py[line:215] - INFO: steps_per_epoch: 60\n",
      "[WARNING] KERNEL(4245,7f6cea09e700,python):2024-06-12-16:11:37.023.186 [mindspore/ccsrc/plugin/device/gpu/kernel/gpu_kernel.cc:40] CheckDeviceSm] It is recommended to use devices with a computing capacity >= 7, but the current device's computing capacity is 6\n"
     ]
    },
    {
     "name": "stdout",
     "output_type": "stream",
     "text": [
      "epoch: 1 step: 1, loss is 1.3907255\n",
      "epoch: 1 step: 2, loss is 1.4420426\n",
      "epoch: 1 step: 3, loss is 1.4253227\n",
      "epoch: 1 step: 4, loss is 1.4261664\n",
      "epoch: 1 step: 5, loss is 1.4435985\n",
      "epoch: 1 step: 6, loss is 1.4107667\n",
      "epoch: 1 step: 7, loss is 1.3576393\n",
      "epoch: 1 step: 8, loss is 1.4618604\n",
      "epoch: 1 step: 9, loss is 1.3308278\n",
      "epoch: 1 step: 10, loss is 1.2488767\n",
      "epoch: 1 step: 11, loss is 1.2698145\n",
      "epoch: 1 step: 12, loss is 1.1726741\n",
      "epoch: 1 step: 13, loss is 1.3041803\n",
      "epoch: 1 step: 14, loss is 1.3114269\n",
      "epoch: 1 step: 15, loss is 1.3172023\n",
      "epoch: 1 step: 16, loss is 1.287687\n",
      "epoch: 1 step: 17, loss is 1.25256\n",
      "epoch: 1 step: 18, loss is 1.2240134\n",
      "epoch: 1 step: 19, loss is 1.1878266\n",
      "epoch: 1 step: 20, loss is 1.182579\n",
      "epoch: 1 step: 21, loss is 1.1606466\n",
      "epoch: 1 step: 22, loss is 1.1976378\n",
      "epoch: 1 step: 23, loss is 1.1302509\n",
      "epoch: 1 step: 24, loss is 1.0484028\n",
      "epoch: 1 step: 25, loss is 0.93567854\n",
      "epoch: 1 step: 26, loss is 0.92280746\n",
      "epoch: 1 step: 27, loss is 1.0322134\n",
      "epoch: 1 step: 28, loss is 1.0217528\n",
      "epoch: 1 step: 29, loss is 0.9214867\n",
      "epoch: 1 step: 30, loss is 0.8561969\n",
      "epoch: 1 step: 31, loss is 0.83846647\n",
      "epoch: 1 step: 32, loss is 0.8262037\n",
      "epoch: 1 step: 33, loss is 0.84045124\n",
      "epoch: 1 step: 34, loss is 0.80462337\n",
      "epoch: 1 step: 35, loss is 0.8301\n",
      "epoch: 1 step: 36, loss is 0.77256316\n",
      "epoch: 1 step: 37, loss is 0.68441707\n",
      "epoch: 1 step: 38, loss is 0.7218988\n",
      "epoch: 1 step: 39, loss is 0.7620198\n",
      "epoch: 1 step: 40, loss is 0.7746716\n",
      "epoch: 1 step: 41, loss is 0.7235213\n",
      "epoch: 1 step: 42, loss is 0.7292819\n",
      "epoch: 1 step: 43, loss is 0.65674454\n",
      "epoch: 1 step: 44, loss is 0.68864226\n",
      "epoch: 1 step: 45, loss is 0.6662444\n",
      "epoch: 1 step: 46, loss is 0.73153174\n",
      "epoch: 1 step: 47, loss is 0.7272489\n",
      "epoch: 1 step: 48, loss is 0.68157184\n",
      "epoch: 1 step: 49, loss is 0.6674981\n",
      "epoch: 1 step: 50, loss is 0.66145563\n",
      "epoch: 1 step: 51, loss is 0.6594767\n",
      "epoch: 1 step: 52, loss is 0.69411844\n",
      "epoch: 1 step: 53, loss is 0.66747\n",
      "epoch: 1 step: 54, loss is 0.6898242\n",
      "epoch: 1 step: 55, loss is 0.6437664\n",
      "epoch: 1 step: 56, loss is 0.64818263\n",
      "epoch: 1 step: 57, loss is 0.6170806\n",
      "epoch: 1 step: 58, loss is 0.6545374\n",
      "epoch: 1 step: 59, loss is 0.57154804\n",
      "epoch: 1 step: 60, loss is 0.68560785\n",
      "Train epoch time: 44730.366 ms, per step time: 745.506 ms\n",
      "epoch: 2 step: 1, loss is 0.5845951\n",
      "epoch: 2 step: 2, loss is 0.6181295\n",
      "epoch: 2 step: 3, loss is 0.5995401\n",
      "epoch: 2 step: 4, loss is 0.5961457\n",
      "epoch: 2 step: 5, loss is 0.5955064\n",
      "epoch: 2 step: 6, loss is 0.56512433\n",
      "epoch: 2 step: 7, loss is 0.6349854\n",
      "epoch: 2 step: 8, loss is 0.67234284\n",
      "epoch: 2 step: 9, loss is 0.6033941\n",
      "epoch: 2 step: 10, loss is 0.5497564\n",
      "epoch: 2 step: 11, loss is 0.56516355\n",
      "epoch: 2 step: 12, loss is 0.64232606\n",
      "epoch: 2 step: 13, loss is 0.56073666\n",
      "epoch: 2 step: 14, loss is 0.5527582\n",
      "epoch: 2 step: 15, loss is 0.6365129\n",
      "epoch: 2 step: 16, loss is 0.56931305\n",
      "epoch: 2 step: 17, loss is 0.5311522\n",
      "epoch: 2 step: 18, loss is 0.55641526\n",
      "epoch: 2 step: 19, loss is 0.8457198\n",
      "epoch: 2 step: 20, loss is 0.56641567\n",
      "epoch: 2 step: 21, loss is 0.5363326\n",
      "epoch: 2 step: 22, loss is 0.5918281\n",
      "epoch: 2 step: 23, loss is 0.55007315\n",
      "epoch: 2 step: 24, loss is 0.5938646\n",
      "epoch: 2 step: 25, loss is 0.57215273\n",
      "epoch: 2 step: 26, loss is 0.5674866\n",
      "epoch: 2 step: 27, loss is 0.5084692\n",
      "epoch: 2 step: 28, loss is 0.5693009\n",
      "epoch: 2 step: 29, loss is 0.5601425\n",
      "epoch: 2 step: 30, loss is 0.5180739\n",
      "epoch: 2 step: 31, loss is 0.5487808\n",
      "epoch: 2 step: 32, loss is 0.52776664\n",
      "epoch: 2 step: 33, loss is 0.5398382\n",
      "epoch: 2 step: 34, loss is 0.5442268\n",
      "epoch: 2 step: 35, loss is 0.53470516\n",
      "epoch: 2 step: 36, loss is 0.49580574\n",
      "epoch: 2 step: 37, loss is 0.51865864\n",
      "epoch: 2 step: 38, loss is 0.5454845\n",
      "epoch: 2 step: 39, loss is 0.5967585\n",
      "epoch: 2 step: 40, loss is 0.53557575\n",
      "epoch: 2 step: 41, loss is 0.5266019\n",
      "epoch: 2 step: 42, loss is 0.5867942\n",
      "epoch: 2 step: 43, loss is 0.56352186\n",
      "epoch: 2 step: 44, loss is 0.5453682\n",
      "epoch: 2 step: 45, loss is 0.5657618\n",
      "epoch: 2 step: 46, loss is 0.5260168\n",
      "epoch: 2 step: 47, loss is 0.488134\n",
      "epoch: 2 step: 48, loss is 0.53546077\n",
      "epoch: 2 step: 49, loss is 0.56905407\n",
      "epoch: 2 step: 50, loss is 0.58121437\n",
      "epoch: 2 step: 51, loss is 0.48210543\n",
      "epoch: 2 step: 52, loss is 0.53115314\n",
      "epoch: 2 step: 53, loss is 0.55362576\n",
      "epoch: 2 step: 54, loss is 0.5257824\n",
      "epoch: 2 step: 55, loss is 0.5229446\n",
      "epoch: 2 step: 56, loss is 0.51176673\n",
      "epoch: 2 step: 57, loss is 0.5341669\n",
      "epoch: 2 step: 58, loss is 0.5325962\n",
      "epoch: 2 step: 59, loss is 0.4903443\n",
      "epoch: 2 step: 60, loss is 0.55721945\n",
      "Train epoch time: 36901.954 ms, per step time: 615.033 ms\n",
      "epoch: 3 step: 1, loss is 0.5172136\n",
      "epoch: 3 step: 2, loss is 0.512277\n",
      "epoch: 3 step: 3, loss is 0.5347438\n",
      "epoch: 3 step: 4, loss is 0.5289816\n",
      "epoch: 3 step: 5, loss is 0.5131636\n",
      "epoch: 3 step: 6, loss is 0.5022583\n",
      "epoch: 3 step: 7, loss is 0.47627848\n",
      "epoch: 3 step: 8, loss is 0.50470597\n",
      "epoch: 3 step: 9, loss is 0.4983743\n",
      "epoch: 3 step: 10, loss is 0.49823195\n",
      "epoch: 3 step: 11, loss is 0.45127842\n",
      "epoch: 3 step: 12, loss is 0.4684544\n",
      "epoch: 3 step: 13, loss is 0.49844062\n",
      "epoch: 3 step: 14, loss is 0.45316443\n",
      "epoch: 3 step: 15, loss is 0.43859002\n",
      "epoch: 3 step: 16, loss is 0.50935096\n",
      "epoch: 3 step: 17, loss is 0.4704391\n",
      "epoch: 3 step: 18, loss is 0.47167143\n",
      "epoch: 3 step: 19, loss is 0.45449328\n",
      "epoch: 3 step: 20, loss is 0.4982646\n",
      "epoch: 3 step: 21, loss is 0.48351157\n",
      "epoch: 3 step: 22, loss is 0.45469844\n",
      "epoch: 3 step: 23, loss is 0.47220767\n",
      "epoch: 3 step: 24, loss is 0.46893814\n",
      "epoch: 3 step: 25, loss is 0.47634804\n",
      "epoch: 3 step: 26, loss is 0.54043716\n",
      "epoch: 3 step: 27, loss is 0.46902567\n",
      "epoch: 3 step: 28, loss is 0.46675107\n",
      "epoch: 3 step: 29, loss is 0.44334647\n",
      "epoch: 3 step: 30, loss is 0.4726086\n",
      "epoch: 3 step: 31, loss is 0.46149823\n",
      "epoch: 3 step: 32, loss is 0.5418156\n",
      "epoch: 3 step: 33, loss is 0.4116629\n",
      "epoch: 3 step: 34, loss is 0.4496909\n",
      "epoch: 3 step: 35, loss is 0.47313967\n",
      "epoch: 3 step: 36, loss is 0.48215282\n",
      "epoch: 3 step: 37, loss is 0.46629918\n",
      "epoch: 3 step: 38, loss is 0.44167846\n",
      "epoch: 3 step: 39, loss is 0.46324605\n",
      "epoch: 3 step: 40, loss is 0.4676734\n",
      "epoch: 3 step: 41, loss is 0.49636942\n",
      "epoch: 3 step: 42, loss is 0.48638016\n",
      "epoch: 3 step: 43, loss is 0.45188922\n",
      "epoch: 3 step: 44, loss is 0.43212524\n",
      "epoch: 3 step: 45, loss is 0.46637392\n",
      "epoch: 3 step: 46, loss is 0.42569908\n",
      "epoch: 3 step: 47, loss is 0.47931045\n",
      "epoch: 3 step: 48, loss is 0.4903522\n",
      "epoch: 3 step: 49, loss is 0.4673137\n",
      "epoch: 3 step: 50, loss is 0.48160926\n",
      "epoch: 3 step: 51, loss is 0.45109692\n",
      "epoch: 3 step: 52, loss is 0.47464344\n",
      "epoch: 3 step: 53, loss is 0.4548774\n",
      "epoch: 3 step: 54, loss is 0.45341393\n",
      "epoch: 3 step: 55, loss is 0.4315813\n",
      "epoch: 3 step: 56, loss is 0.45022523\n",
      "epoch: 3 step: 57, loss is 0.4397034\n",
      "epoch: 3 step: 58, loss is 0.48145217\n",
      "epoch: 3 step: 59, loss is 0.44647712\n",
      "epoch: 3 step: 60, loss is 0.48238745\n",
      "Train epoch time: 30757.017 ms, per step time: 512.617 ms\n"
     ]
    }
   ],
   "source": [
    "config['data'][\"train_dataset\"] = \"CMIP5\" # 训练数据集\n",
    "config['data'][\"train_period\"] = [1861, 2004] # 训练周期\n",
    "config['data'][\"valid_dataset\"] = \"Reanalysis\" # 评估数据集\n",
    "config['data'][\"valid_period\"] = [1941, 1983] # 评估周期\n",
    "config['data'][\"t_in\"] = 1  # 训练阶段\n",
    "config['data'][\"t_out_train\"] = 1  # 训练阶段\n",
    "config['optimizer']['name'] = 'adam'  # 优化器\n",
    "config['optimizer']['initial_lr'] = 0.0008  # 学习率\n",
    "config['optimizer']['epochs'] = 3  # 训练批次\n",
    "\n",
    "trainer = CTEFTrainer(config, model, loss_fn, logger)\n",
    "trainer.train()"
   ]
  },
  {
   "cell_type": "markdown",
   "metadata": {},
   "source": [
    "### 5.2 模型调优\n",
    "\n",
    "使用1984年前的 SODA 再分析数据对模型进行调优"
   ]
  },
  {
   "cell_type": "code",
   "execution_count": 12,
   "metadata": {
    "scrolled": true
   },
   "outputs": [
    {
     "name": "stderr",
     "output_type": "stream",
     "text": [
      "2024-06-12 16:20:57,077 - pretrain.py[line:215] - INFO: steps_per_epoch: 1\n"
     ]
    },
    {
     "name": "stdout",
     "output_type": "stream",
     "text": [
      "epoch: 1 step: 1, loss is 0.5750885\n",
      "Train epoch time: 3053.514 ms, per step time: 3053.514 ms\n",
      "epoch: 2 step: 1, loss is 0.54179406\n",
      "Train epoch time: 742.249 ms, per step time: 742.249 ms\n",
      "epoch: 3 step: 1, loss is 0.53568\n",
      "Train epoch time: 809.872 ms, per step time: 809.872 ms\n",
      "epoch: 4 step: 1, loss is 0.52220225\n",
      "Train epoch time: 874.464 ms, per step time: 874.464 ms\n",
      "epoch: 5 step: 1, loss is 0.5211032\n",
      "Train epoch time: 1282.578 ms, per step time: 1282.578 ms\n",
      "epoch: 6 step: 1, loss is 0.51847315\n",
      "Train epoch time: 635.916 ms, per step time: 635.916 ms\n",
      "epoch: 7 step: 1, loss is 0.5152263\n",
      "Train epoch time: 608.059 ms, per step time: 608.059 ms\n",
      "epoch: 8 step: 1, loss is 0.5152715\n",
      "Train epoch time: 587.414 ms, per step time: 587.414 ms\n",
      "epoch: 9 step: 1, loss is 0.511709\n",
      "Train epoch time: 619.830 ms, per step time: 619.830 ms\n",
      "epoch: 10 step: 1, loss is 0.50936556\n",
      "Train epoch time: 1042.933 ms, per step time: 1042.933 ms\n",
      "epoch: 11 step: 1, loss is 0.5031694\n",
      "Train epoch time: 655.465 ms, per step time: 655.465 ms\n",
      "epoch: 12 step: 1, loss is 0.5091591\n",
      "Train epoch time: 615.246 ms, per step time: 615.246 ms\n",
      "epoch: 13 step: 1, loss is 0.50609094\n",
      "Train epoch time: 602.275 ms, per step time: 602.275 ms\n",
      "epoch: 14 step: 1, loss is 0.50218755\n",
      "Train epoch time: 632.860 ms, per step time: 632.860 ms\n",
      "epoch: 15 step: 1, loss is 0.50287217\n",
      "Train epoch time: 1034.556 ms, per step time: 1034.556 ms\n",
      "epoch: 16 step: 1, loss is 0.506551\n",
      "Train epoch time: 627.715 ms, per step time: 627.715 ms\n",
      "epoch: 17 step: 1, loss is 0.50232434\n",
      "Train epoch time: 611.563 ms, per step time: 611.563 ms\n",
      "epoch: 18 step: 1, loss is 0.49910408\n",
      "Train epoch time: 669.584 ms, per step time: 669.584 ms\n",
      "epoch: 19 step: 1, loss is 0.5003247\n",
      "Train epoch time: 643.435 ms, per step time: 643.435 ms\n",
      "epoch: 20 step: 1, loss is 0.49378943\n",
      "Train epoch time: 1050.965 ms, per step time: 1050.965 ms\n",
      "epoch: 21 step: 1, loss is 0.4934333\n",
      "Train epoch time: 583.254 ms, per step time: 583.254 ms\n",
      "epoch: 22 step: 1, loss is 0.49457082\n",
      "Train epoch time: 617.287 ms, per step time: 617.287 ms\n",
      "epoch: 23 step: 1, loss is 0.4896397\n",
      "Train epoch time: 588.247 ms, per step time: 588.247 ms\n",
      "epoch: 24 step: 1, loss is 0.49488544\n",
      "Train epoch time: 626.294 ms, per step time: 626.294 ms\n",
      "epoch: 25 step: 1, loss is 0.48716158\n",
      "Train epoch time: 991.291 ms, per step time: 991.291 ms\n",
      "epoch: 26 step: 1, loss is 0.4871201\n",
      "Train epoch time: 615.461 ms, per step time: 615.461 ms\n",
      "epoch: 27 step: 1, loss is 0.48434874\n",
      "Train epoch time: 620.029 ms, per step time: 620.029 ms\n",
      "epoch: 28 step: 1, loss is 0.4852068\n",
      "Train epoch time: 649.071 ms, per step time: 649.071 ms\n",
      "epoch: 29 step: 1, loss is 0.48355535\n",
      "Train epoch time: 599.189 ms, per step time: 599.189 ms\n",
      "epoch: 30 step: 1, loss is 0.489751\n",
      "Train epoch time: 996.667 ms, per step time: 996.667 ms\n",
      "epoch: 31 step: 1, loss is 0.481087\n",
      "Train epoch time: 600.135 ms, per step time: 600.135 ms\n",
      "epoch: 32 step: 1, loss is 0.47785604\n",
      "Train epoch time: 617.170 ms, per step time: 617.170 ms\n",
      "epoch: 33 step: 1, loss is 0.4836093\n",
      "Train epoch time: 585.843 ms, per step time: 585.843 ms\n",
      "epoch: 34 step: 1, loss is 0.48056912\n",
      "Train epoch time: 606.160 ms, per step time: 606.160 ms\n",
      "epoch: 35 step: 1, loss is 0.4773792\n",
      "Train epoch time: 966.866 ms, per step time: 966.866 ms\n",
      "epoch: 36 step: 1, loss is 0.48401493\n",
      "Train epoch time: 604.942 ms, per step time: 604.942 ms\n",
      "epoch: 37 step: 1, loss is 0.4797806\n",
      "Train epoch time: 588.738 ms, per step time: 588.738 ms\n",
      "epoch: 38 step: 1, loss is 0.48371813\n",
      "Train epoch time: 600.658 ms, per step time: 600.658 ms\n",
      "epoch: 39 step: 1, loss is 0.48316583\n",
      "Train epoch time: 596.916 ms, per step time: 596.916 ms\n",
      "epoch: 40 step: 1, loss is 0.48094377\n",
      "Train epoch time: 983.992 ms, per step time: 983.992 ms\n",
      "epoch: 41 step: 1, loss is 0.47684073\n",
      "Train epoch time: 588.487 ms, per step time: 588.487 ms\n",
      "epoch: 42 step: 1, loss is 0.46996814\n",
      "Train epoch time: 590.901 ms, per step time: 590.901 ms\n",
      "epoch: 43 step: 1, loss is 0.4716468\n",
      "Train epoch time: 632.718 ms, per step time: 632.718 ms\n",
      "epoch: 44 step: 1, loss is 0.47661734\n",
      "Train epoch time: 648.326 ms, per step time: 648.326 ms\n",
      "epoch: 45 step: 1, loss is 0.47337008\n",
      "Train epoch time: 983.689 ms, per step time: 983.689 ms\n",
      "epoch: 46 step: 1, loss is 0.46837515\n",
      "Train epoch time: 634.888 ms, per step time: 634.888 ms\n",
      "epoch: 47 step: 1, loss is 0.47045627\n",
      "Train epoch time: 599.956 ms, per step time: 599.956 ms\n",
      "epoch: 48 step: 1, loss is 0.4664065\n",
      "Train epoch time: 587.332 ms, per step time: 587.332 ms\n",
      "epoch: 49 step: 1, loss is 0.4736547\n",
      "Train epoch time: 577.486 ms, per step time: 577.486 ms\n",
      "epoch: 50 step: 1, loss is 0.46952572\n",
      "Train epoch time: 975.830 ms, per step time: 975.830 ms\n",
      "epoch: 51 step: 1, loss is 0.46594566\n",
      "Train epoch time: 600.549 ms, per step time: 600.549 ms\n",
      "epoch: 52 step: 1, loss is 0.4695679\n",
      "Train epoch time: 590.553 ms, per step time: 590.553 ms\n",
      "epoch: 53 step: 1, loss is 0.46717674\n",
      "Train epoch time: 611.793 ms, per step time: 611.793 ms\n",
      "epoch: 54 step: 1, loss is 0.46332252\n",
      "Train epoch time: 602.421 ms, per step time: 602.421 ms\n",
      "epoch: 55 step: 1, loss is 0.46016628\n",
      "Train epoch time: 979.974 ms, per step time: 979.974 ms\n",
      "epoch: 56 step: 1, loss is 0.45703194\n",
      "Train epoch time: 597.732 ms, per step time: 597.732 ms\n",
      "epoch: 57 step: 1, loss is 0.463285\n",
      "Train epoch time: 616.299 ms, per step time: 616.299 ms\n",
      "epoch: 58 step: 1, loss is 0.46191487\n",
      "Train epoch time: 646.015 ms, per step time: 646.015 ms\n",
      "epoch: 59 step: 1, loss is 0.46109867\n",
      "Train epoch time: 581.564 ms, per step time: 581.564 ms\n",
      "epoch: 60 step: 1, loss is 0.4620521\n",
      "Train epoch time: 950.106 ms, per step time: 950.106 ms\n",
      "epoch: 61 step: 1, loss is 0.45867187\n",
      "Train epoch time: 593.746 ms, per step time: 593.746 ms\n",
      "epoch: 62 step: 1, loss is 0.4598097\n",
      "Train epoch time: 608.087 ms, per step time: 608.087 ms\n",
      "epoch: 63 step: 1, loss is 0.4634167\n",
      "Train epoch time: 618.026 ms, per step time: 618.026 ms\n",
      "epoch: 64 step: 1, loss is 0.4642251\n",
      "Train epoch time: 596.685 ms, per step time: 596.685 ms\n",
      "epoch: 65 step: 1, loss is 0.46499777\n",
      "Train epoch time: 967.159 ms, per step time: 967.159 ms\n",
      "epoch: 66 step: 1, loss is 0.46232533\n",
      "Train epoch time: 584.304 ms, per step time: 584.304 ms\n",
      "epoch: 67 step: 1, loss is 0.46196985\n",
      "Train epoch time: 601.457 ms, per step time: 601.457 ms\n",
      "epoch: 68 step: 1, loss is 0.46211892\n",
      "Train epoch time: 601.857 ms, per step time: 601.857 ms\n",
      "epoch: 69 step: 1, loss is 0.4618193\n",
      "Train epoch time: 597.370 ms, per step time: 597.370 ms\n",
      "epoch: 70 step: 1, loss is 0.4600307\n",
      "Train epoch time: 975.769 ms, per step time: 975.769 ms\n",
      "epoch: 71 step: 1, loss is 0.4595143\n",
      "Train epoch time: 593.292 ms, per step time: 593.292 ms\n",
      "epoch: 72 step: 1, loss is 0.4568727\n",
      "Train epoch time: 586.191 ms, per step time: 586.191 ms\n",
      "epoch: 73 step: 1, loss is 0.4632684\n",
      "Train epoch time: 591.323 ms, per step time: 591.323 ms\n",
      "epoch: 74 step: 1, loss is 0.4656556\n",
      "Train epoch time: 577.045 ms, per step time: 577.045 ms\n",
      "epoch: 75 step: 1, loss is 0.4652209\n",
      "Train epoch time: 973.324 ms, per step time: 973.324 ms\n",
      "epoch: 76 step: 1, loss is 0.46196622\n",
      "Train epoch time: 592.070 ms, per step time: 592.070 ms\n",
      "epoch: 77 step: 1, loss is 0.4616126\n",
      "Train epoch time: 591.139 ms, per step time: 591.139 ms\n",
      "epoch: 78 step: 1, loss is 0.45856863\n",
      "Train epoch time: 577.624 ms, per step time: 577.624 ms\n",
      "epoch: 79 step: 1, loss is 0.45807633\n",
      "Train epoch time: 583.124 ms, per step time: 583.124 ms\n",
      "epoch: 80 step: 1, loss is 0.45844114\n",
      "Train epoch time: 837.741 ms, per step time: 837.741 ms\n",
      "epoch: 81 step: 1, loss is 0.4598041\n",
      "Train epoch time: 449.755 ms, per step time: 449.755 ms\n",
      "epoch: 82 step: 1, loss is 0.45697597\n",
      "Train epoch time: 445.845 ms, per step time: 445.845 ms\n",
      "epoch: 83 step: 1, loss is 0.45773682\n",
      "Train epoch time: 445.254 ms, per step time: 445.254 ms\n",
      "epoch: 84 step: 1, loss is 0.4530161\n",
      "Train epoch time: 445.933 ms, per step time: 445.933 ms\n",
      "epoch: 85 step: 1, loss is 0.45156038\n",
      "Train epoch time: 830.148 ms, per step time: 830.148 ms\n",
      "epoch: 86 step: 1, loss is 0.45946902\n",
      "Train epoch time: 449.529 ms, per step time: 449.529 ms\n",
      "epoch: 87 step: 1, loss is 0.4577026\n",
      "Train epoch time: 444.689 ms, per step time: 444.689 ms\n",
      "epoch: 88 step: 1, loss is 0.45328572\n",
      "Train epoch time: 443.121 ms, per step time: 443.121 ms\n",
      "epoch: 89 step: 1, loss is 0.4558849\n",
      "Train epoch time: 449.210 ms, per step time: 449.210 ms\n",
      "epoch: 90 step: 1, loss is 0.45583788\n",
      "Train epoch time: 830.981 ms, per step time: 830.981 ms\n",
      "epoch: 91 step: 1, loss is 0.45830867\n",
      "Train epoch time: 450.896 ms, per step time: 450.896 ms\n",
      "epoch: 92 step: 1, loss is 0.45651433\n",
      "Train epoch time: 444.837 ms, per step time: 444.837 ms\n",
      "epoch: 93 step: 1, loss is 0.45433518\n",
      "Train epoch time: 464.827 ms, per step time: 464.827 ms\n",
      "epoch: 94 step: 1, loss is 0.45932856\n",
      "Train epoch time: 450.729 ms, per step time: 450.729 ms\n",
      "epoch: 95 step: 1, loss is 0.46039438\n",
      "Train epoch time: 836.701 ms, per step time: 836.701 ms\n",
      "epoch: 96 step: 1, loss is 0.45927837\n",
      "Train epoch time: 455.820 ms, per step time: 455.820 ms\n",
      "epoch: 97 step: 1, loss is 0.4564876\n",
      "Train epoch time: 448.243 ms, per step time: 448.243 ms\n",
      "epoch: 98 step: 1, loss is 0.46270415\n",
      "Train epoch time: 443.119 ms, per step time: 443.119 ms\n",
      "epoch: 99 step: 1, loss is 0.46095598\n",
      "Train epoch time: 446.551 ms, per step time: 446.551 ms\n",
      "epoch: 100 step: 1, loss is 0.46119273\n",
      "Train epoch time: 834.409 ms, per step time: 834.409 ms\n"
     ]
    }
   ],
   "source": [
    "config['data'][\"train_dataset\"] = \"Reanalysis\" # 训练数据集\n",
    "config['data'][\"train_period\"] = [1941, 1983] # 训练周期\n",
    "config['data'][\"valid_dataset\"] = \"Reanalysis\" # 评估数据集\n",
    "config['data'][\"valid_period\"] = [1984, 2008] # 评估周期\n",
    "config['data'][\"t_in\"] = 2  # 训练阶段\n",
    "config['data'][\"t_out_train\"] = 1  # 训练阶段\n",
    "config['optimizer']['name'] = 'sgd'  # 优化器\n",
    "config['optimizer']['finetune_lr'] = 0.001  # 调优学习率\n",
    "config['optimizer']['epochs'] = 100  # 训练批次\n",
    "\n",
    "trainer = CTEFTrainer(config, model, loss_fn, logger)\n",
    "trainer.train()"
   ]
  },
  {
   "cell_type": "markdown",
   "metadata": {},
   "source": [
    "## 6. 模型评估和可视化"
   ]
  },
  {
   "cell_type": "markdown",
   "metadata": {},
   "source": [
    "完成训练后，我们使用ckpt进行推理。下述展示了nino3.4指数预测值、真实值的相关系数。"
   ]
  },
  {
   "cell_type": "code",
   "execution_count": 15,
   "metadata": {},
   "outputs": [],
   "source": [
    "test_dataset = ReanalysisData(\n",
    "    data_params.get('root_dir'),\n",
    "    data_params.get('test_period'),\n",
    "    data_params.get('obs_time'),\n",
    "    data_params.get('pred_time')\n",
    ")\n",
    "test_dataloader = ds.GeneratorDataset(\n",
    "    test_dataset,\n",
    "    [\"data\", \"index\"],\n",
    "    shuffle=False).batch(data_params.get('valid_batch_size'), False)"
   ]
  },
  {
   "cell_type": "code",
   "execution_count": 16,
   "metadata": {},
   "outputs": [
    {
     "name": "stderr",
     "output_type": "stream",
     "text": [
      "2024-06-12 16:26:04,031 - 2085024365.py[line:5] - INFO: Load pre-trained model successfully, ./summary/ckpt/step_1\n"
     ]
    },
    {
     "name": "stdout",
     "output_type": "stream",
     "text": [
      "OBS Accuracy: 97.14%, Pred Accuracy: 62.84%, Pred Corr:\n",
      "[0.96 0.92 0.87 0.82 0.78 0.74 0.72 0.71 0.71 0.71 0.7  0.69 0.66 0.65\n",
      " 0.61 0.58 0.53 0.47 0.43 0.35 0.3  0.31 0.25]\n"
     ]
    },
    {
     "name": "stderr",
     "output_type": "stream",
     "text": [
      "2024-06-12 16:26:04,748 - 2085024365.py[line:5] - INFO: Load pre-trained model successfully, ./summary/ckpt/step_2\n"
     ]
    },
    {
     "name": "stdout",
     "output_type": "stream",
     "text": [
      "OBS Accuracy: 97.11%, Pred Accuracy: 63.81%, Pred Corr:\n",
      "[0.96 0.92 0.88 0.83 0.8  0.76 0.74 0.72 0.72 0.73 0.72 0.71 0.68 0.66\n",
      " 0.61 0.59 0.52 0.48 0.43 0.36 0.31 0.31 0.25]\n"
     ]
    }
   ],
   "source": [
    "corr_list = []\n",
    "for t in range(1, 2+1):\n",
    "    param_dict, file_dir = get_param_dict(config, t)\n",
    "    load_param_into_net(model, param_dict)\n",
    "    logger.info(f\"Load pre-trained model successfully, {file_dir}\")\n",
    "    inference_module = InferenceModule(model, config, logger)\n",
    "    corr_list.append(inference_module.eval(test_dataloader)[data_params.get('obs_time'):])"
   ]
  },
  {
   "cell_type": "markdown",
   "metadata": {},
   "source": [
    "最后生成可视化预训练与调优结果可视化图表如下。"
   ]
  },
  {
   "cell_type": "code",
   "execution_count": 17,
   "metadata": {},
   "outputs": [
    {
     "data": {
      "image/png": "[encoded data removed]",
      "text/plain": [
       "<Figure size 2250x900 with 1 Axes>"
      ]
     },
     "metadata": {},
     "output_type": "display_data"
    }
   ],
   "source": [
    "plot_correlation(config, corr_list)"
   ]
  },
  {
   "cell_type": "code",
   "execution_count": null,
   "metadata": {},
   "outputs": [],
   "source": []
  }
 ],
 "metadata": {
  "interpreter": {
   "hash": "58e6709d8bbc21fe79376972d6b15d6c06efb7b1d41f6d4b946e12f7486761ac"
  },
  "kernelspec": {
   "display_name": "Mindquantum-0.9.0",
   "language": "python",
   "name": "mindquantum-0.9.0"
  },
  "language_info": {
   "codemirror_mode": {
    "name": "ipython",
    "version": 3
   },
   "file_extension": ".py",
   "mimetype": "text/x-python",
   "name": "python",
   "nbconvert_exporter": "python",
   "pygments_lexer": "ipython3",
   "version": "3.9.11"
  }
 },
 "nbformat": 4,
 "nbformat_minor": 4
}
